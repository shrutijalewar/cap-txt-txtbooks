{
 "cells": [
  {
   "cell_type": "code",
   "execution_count": 3,
   "metadata": {
    "collapsed": false
   },
   "outputs": [],
   "source": [
    "# http://stackoverflow.com/questions/208120/how-to-read-and-write-multiple-files\n",
    "import glob\n",
    "\n",
    "list_of_files = glob.glob('./*.txt')           # create the list of file\n",
    "for file_name in list_of_files:\n",
    "  FI = open(file_name, 'r',encoding='utf-8', errors='ignore')\n",
    "    \n",
    "  FO = open(file_name.replace('txt', 'out'), 'w') \n",
    "  for line in FI:\n",
    "    FO.write(line)\n",
    "\n",
    "  FI.close()\n",
    "  FO.close()"
   ]
  },
  {
   "cell_type": "code",
   "execution_count": null,
   "metadata": {
    "collapsed": true
   },
   "outputs": [],
   "source": [
    "import nltk\n"
   ]
  },
  {
   "cell_type": "code",
   "execution_count": null,
   "metadata": {
    "collapsed": false
   },
   "outputs": [],
   "source": [
    "nltk.download()\n",
    "from nltk.tokenize import word_tokenize\n",
    "f2 = open('./3d-video-processing-and-transmission-fundamentals.out',mode='r' ,encoding='UTF-8')\n",
    "f2.read()\n",
    "\n"
   ]
  },
  {
   "cell_type": "code",
   "execution_count": null,
   "metadata": {
    "collapsed": true
   },
   "outputs": [],
   "source": [
    "from sklearn.feature_extraction.text import CountVectorizer\n",
    "cv = CountVectorizer()\n",
    "words_csm = cv.fit_transform(records)\n",
    "words_csm.todense()"
   ]
  },
  {
   "cell_type": "code",
   "execution_count": null,
   "metadata": {
    "collapsed": true
   },
   "outputs": [],
   "source": []
  }
 ],
 "metadata": {
  "kernelspec": {
   "display_name": "Python 3",
   "language": "python",
   "name": "python3"
  },
  "language_info": {
   "codemirror_mode": {
    "name": "ipython",
    "version": 3
   },
   "file_extension": ".py",
   "mimetype": "text/x-python",
   "name": "python",
   "nbconvert_exporter": "python",
   "pygments_lexer": "ipython3",
   "version": "3.5.1"
  }
 },
 "nbformat": 4,
 "nbformat_minor": 0
}
